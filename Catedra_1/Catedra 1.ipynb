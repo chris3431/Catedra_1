{
 "cells": [
  {
   "cell_type": "markdown",
   "id": "4710a117",
   "metadata": {},
   "source": [
    "## Primero importamos las librerias que vamos a usar Pandas para leer el csv , numpy para las funciones matematicas , matplotlib para graficar los resultados y la libreria statistics con su modulo mode que nos ayudara a calcular la moda ya que numpy no tiene un metodo que nos facilite este resultado."
   ]
  },
  {
   "cell_type": "code",
   "execution_count": 41,
   "id": "b51e3b57",
   "metadata": {},
   "outputs": [],
   "source": [
    "import pandas as pd\n",
    "import numpy as np\n",
    "import matplotlib.pyplot as plt\n",
    "import matplotlib\n",
    "from statistics import mode"
   ]
  },
  {
   "cell_type": "markdown",
   "id": "69ee186d",
   "metadata": {},
   "source": [
    "## Luego se guardan los datos del csv en la variable df , Se le agregan categorias a nuestros resulados strings"
   ]
  },
  {
   "cell_type": "code",
   "execution_count": 42,
   "id": "40414fd6",
   "metadata": {},
   "outputs": [
    {
     "data": {
      "text/html": [
       "<div>\n",
       "<style scoped>\n",
       "    .dataframe tbody tr th:only-of-type {\n",
       "        vertical-align: middle;\n",
       "    }\n",
       "\n",
       "    .dataframe tbody tr th {\n",
       "        vertical-align: top;\n",
       "    }\n",
       "\n",
       "    .dataframe thead th {\n",
       "        text-align: right;\n",
       "    }\n",
       "</style>\n",
       "<table border=\"1\" class=\"dataframe\">\n",
       "  <thead>\n",
       "    <tr style=\"text-align: right;\">\n",
       "      <th></th>\n",
       "      <th>R1</th>\n",
       "      <th>R2</th>\n",
       "      <th>R3</th>\n",
       "      <th>R4</th>\n",
       "      <th>R5</th>\n",
       "      <th>R6</th>\n",
       "      <th>R7</th>\n",
       "      <th>R8</th>\n",
       "      <th>R9</th>\n",
       "      <th>R_Final</th>\n",
       "    </tr>\n",
       "  </thead>\n",
       "  <tbody>\n",
       "    <tr>\n",
       "      <th>0</th>\n",
       "      <td>x</td>\n",
       "      <td>x</td>\n",
       "      <td>x</td>\n",
       "      <td>x</td>\n",
       "      <td>o</td>\n",
       "      <td>o</td>\n",
       "      <td>x</td>\n",
       "      <td>o</td>\n",
       "      <td>o</td>\n",
       "      <td>positive</td>\n",
       "    </tr>\n",
       "    <tr>\n",
       "      <th>1</th>\n",
       "      <td>x</td>\n",
       "      <td>x</td>\n",
       "      <td>x</td>\n",
       "      <td>x</td>\n",
       "      <td>o</td>\n",
       "      <td>o</td>\n",
       "      <td>o</td>\n",
       "      <td>x</td>\n",
       "      <td>o</td>\n",
       "      <td>positive</td>\n",
       "    </tr>\n",
       "    <tr>\n",
       "      <th>2</th>\n",
       "      <td>x</td>\n",
       "      <td>x</td>\n",
       "      <td>x</td>\n",
       "      <td>x</td>\n",
       "      <td>o</td>\n",
       "      <td>o</td>\n",
       "      <td>o</td>\n",
       "      <td>o</td>\n",
       "      <td>x</td>\n",
       "      <td>positive</td>\n",
       "    </tr>\n",
       "    <tr>\n",
       "      <th>3</th>\n",
       "      <td>x</td>\n",
       "      <td>x</td>\n",
       "      <td>x</td>\n",
       "      <td>x</td>\n",
       "      <td>o</td>\n",
       "      <td>o</td>\n",
       "      <td>o</td>\n",
       "      <td>b</td>\n",
       "      <td>b</td>\n",
       "      <td>positive</td>\n",
       "    </tr>\n",
       "    <tr>\n",
       "      <th>4</th>\n",
       "      <td>x</td>\n",
       "      <td>x</td>\n",
       "      <td>x</td>\n",
       "      <td>x</td>\n",
       "      <td>o</td>\n",
       "      <td>o</td>\n",
       "      <td>b</td>\n",
       "      <td>o</td>\n",
       "      <td>b</td>\n",
       "      <td>positive</td>\n",
       "    </tr>\n",
       "    <tr>\n",
       "      <th>...</th>\n",
       "      <td>...</td>\n",
       "      <td>...</td>\n",
       "      <td>...</td>\n",
       "      <td>...</td>\n",
       "      <td>...</td>\n",
       "      <td>...</td>\n",
       "      <td>...</td>\n",
       "      <td>...</td>\n",
       "      <td>...</td>\n",
       "      <td>...</td>\n",
       "    </tr>\n",
       "    <tr>\n",
       "      <th>953</th>\n",
       "      <td>o</td>\n",
       "      <td>x</td>\n",
       "      <td>x</td>\n",
       "      <td>x</td>\n",
       "      <td>o</td>\n",
       "      <td>o</td>\n",
       "      <td>o</td>\n",
       "      <td>x</td>\n",
       "      <td>x</td>\n",
       "      <td>negative</td>\n",
       "    </tr>\n",
       "    <tr>\n",
       "      <th>954</th>\n",
       "      <td>o</td>\n",
       "      <td>x</td>\n",
       "      <td>o</td>\n",
       "      <td>x</td>\n",
       "      <td>x</td>\n",
       "      <td>o</td>\n",
       "      <td>x</td>\n",
       "      <td>o</td>\n",
       "      <td>x</td>\n",
       "      <td>negative</td>\n",
       "    </tr>\n",
       "    <tr>\n",
       "      <th>955</th>\n",
       "      <td>o</td>\n",
       "      <td>x</td>\n",
       "      <td>o</td>\n",
       "      <td>x</td>\n",
       "      <td>o</td>\n",
       "      <td>x</td>\n",
       "      <td>x</td>\n",
       "      <td>o</td>\n",
       "      <td>x</td>\n",
       "      <td>negative</td>\n",
       "    </tr>\n",
       "    <tr>\n",
       "      <th>956</th>\n",
       "      <td>o</td>\n",
       "      <td>x</td>\n",
       "      <td>o</td>\n",
       "      <td>o</td>\n",
       "      <td>x</td>\n",
       "      <td>x</td>\n",
       "      <td>x</td>\n",
       "      <td>o</td>\n",
       "      <td>x</td>\n",
       "      <td>negative</td>\n",
       "    </tr>\n",
       "    <tr>\n",
       "      <th>957</th>\n",
       "      <td>o</td>\n",
       "      <td>o</td>\n",
       "      <td>x</td>\n",
       "      <td>x</td>\n",
       "      <td>x</td>\n",
       "      <td>o</td>\n",
       "      <td>o</td>\n",
       "      <td>x</td>\n",
       "      <td>x</td>\n",
       "      <td>negative</td>\n",
       "    </tr>\n",
       "  </tbody>\n",
       "</table>\n",
       "<p>958 rows × 10 columns</p>\n",
       "</div>"
      ],
      "text/plain": [
       "    R1 R2 R3 R4 R5 R6 R7 R8 R9   R_Final\n",
       "0    x  x  x  x  o  o  x  o  o  positive\n",
       "1    x  x  x  x  o  o  o  x  o  positive\n",
       "2    x  x  x  x  o  o  o  o  x  positive\n",
       "3    x  x  x  x  o  o  o  b  b  positive\n",
       "4    x  x  x  x  o  o  b  o  b  positive\n",
       "..  .. .. .. .. .. .. .. .. ..       ...\n",
       "953  o  x  x  x  o  o  o  x  x  negative\n",
       "954  o  x  o  x  x  o  x  o  x  negative\n",
       "955  o  x  o  x  o  x  x  o  x  negative\n",
       "956  o  x  o  o  x  x  x  o  x  negative\n",
       "957  o  o  x  x  x  o  o  x  x  negative\n",
       "\n",
       "[958 rows x 10 columns]"
      ]
     },
     "execution_count": 42,
     "metadata": {},
     "output_type": "execute_result"
    }
   ],
   "source": [
    "df=pd.read_csv('data/tic-tac-toe.data',header=None , names=['R1','R2','R3','R4','R5','R6','R7','R8','R9','R_Final'])\n",
    "df"
   ]
  },
  {
   "cell_type": "markdown",
   "id": "3658545c",
   "metadata": {},
   "source": [
    "## Se elimina la columna final para quedarnos solo con los datos, se le asigna este nuevo valor a la variable df2 y despues se imprime"
   ]
  },
  {
   "cell_type": "code",
   "execution_count": 43,
   "id": "a973640e",
   "metadata": {},
   "outputs": [
    {
     "data": {
      "text/html": [
       "<div>\n",
       "<style scoped>\n",
       "    .dataframe tbody tr th:only-of-type {\n",
       "        vertical-align: middle;\n",
       "    }\n",
       "\n",
       "    .dataframe tbody tr th {\n",
       "        vertical-align: top;\n",
       "    }\n",
       "\n",
       "    .dataframe thead th {\n",
       "        text-align: right;\n",
       "    }\n",
       "</style>\n",
       "<table border=\"1\" class=\"dataframe\">\n",
       "  <thead>\n",
       "    <tr style=\"text-align: right;\">\n",
       "      <th></th>\n",
       "      <th>R1</th>\n",
       "      <th>R2</th>\n",
       "      <th>R3</th>\n",
       "      <th>R4</th>\n",
       "      <th>R5</th>\n",
       "      <th>R6</th>\n",
       "      <th>R7</th>\n",
       "      <th>R8</th>\n",
       "      <th>R9</th>\n",
       "    </tr>\n",
       "  </thead>\n",
       "  <tbody>\n",
       "    <tr>\n",
       "      <th>0</th>\n",
       "      <td>x</td>\n",
       "      <td>x</td>\n",
       "      <td>x</td>\n",
       "      <td>x</td>\n",
       "      <td>o</td>\n",
       "      <td>o</td>\n",
       "      <td>x</td>\n",
       "      <td>o</td>\n",
       "      <td>o</td>\n",
       "    </tr>\n",
       "    <tr>\n",
       "      <th>1</th>\n",
       "      <td>x</td>\n",
       "      <td>x</td>\n",
       "      <td>x</td>\n",
       "      <td>x</td>\n",
       "      <td>o</td>\n",
       "      <td>o</td>\n",
       "      <td>o</td>\n",
       "      <td>x</td>\n",
       "      <td>o</td>\n",
       "    </tr>\n",
       "    <tr>\n",
       "      <th>2</th>\n",
       "      <td>x</td>\n",
       "      <td>x</td>\n",
       "      <td>x</td>\n",
       "      <td>x</td>\n",
       "      <td>o</td>\n",
       "      <td>o</td>\n",
       "      <td>o</td>\n",
       "      <td>o</td>\n",
       "      <td>x</td>\n",
       "    </tr>\n",
       "    <tr>\n",
       "      <th>3</th>\n",
       "      <td>x</td>\n",
       "      <td>x</td>\n",
       "      <td>x</td>\n",
       "      <td>x</td>\n",
       "      <td>o</td>\n",
       "      <td>o</td>\n",
       "      <td>o</td>\n",
       "      <td>b</td>\n",
       "      <td>b</td>\n",
       "    </tr>\n",
       "    <tr>\n",
       "      <th>4</th>\n",
       "      <td>x</td>\n",
       "      <td>x</td>\n",
       "      <td>x</td>\n",
       "      <td>x</td>\n",
       "      <td>o</td>\n",
       "      <td>o</td>\n",
       "      <td>b</td>\n",
       "      <td>o</td>\n",
       "      <td>b</td>\n",
       "    </tr>\n",
       "    <tr>\n",
       "      <th>...</th>\n",
       "      <td>...</td>\n",
       "      <td>...</td>\n",
       "      <td>...</td>\n",
       "      <td>...</td>\n",
       "      <td>...</td>\n",
       "      <td>...</td>\n",
       "      <td>...</td>\n",
       "      <td>...</td>\n",
       "      <td>...</td>\n",
       "    </tr>\n",
       "    <tr>\n",
       "      <th>953</th>\n",
       "      <td>o</td>\n",
       "      <td>x</td>\n",
       "      <td>x</td>\n",
       "      <td>x</td>\n",
       "      <td>o</td>\n",
       "      <td>o</td>\n",
       "      <td>o</td>\n",
       "      <td>x</td>\n",
       "      <td>x</td>\n",
       "    </tr>\n",
       "    <tr>\n",
       "      <th>954</th>\n",
       "      <td>o</td>\n",
       "      <td>x</td>\n",
       "      <td>o</td>\n",
       "      <td>x</td>\n",
       "      <td>x</td>\n",
       "      <td>o</td>\n",
       "      <td>x</td>\n",
       "      <td>o</td>\n",
       "      <td>x</td>\n",
       "    </tr>\n",
       "    <tr>\n",
       "      <th>955</th>\n",
       "      <td>o</td>\n",
       "      <td>x</td>\n",
       "      <td>o</td>\n",
       "      <td>x</td>\n",
       "      <td>o</td>\n",
       "      <td>x</td>\n",
       "      <td>x</td>\n",
       "      <td>o</td>\n",
       "      <td>x</td>\n",
       "    </tr>\n",
       "    <tr>\n",
       "      <th>956</th>\n",
       "      <td>o</td>\n",
       "      <td>x</td>\n",
       "      <td>o</td>\n",
       "      <td>o</td>\n",
       "      <td>x</td>\n",
       "      <td>x</td>\n",
       "      <td>x</td>\n",
       "      <td>o</td>\n",
       "      <td>x</td>\n",
       "    </tr>\n",
       "    <tr>\n",
       "      <th>957</th>\n",
       "      <td>o</td>\n",
       "      <td>o</td>\n",
       "      <td>x</td>\n",
       "      <td>x</td>\n",
       "      <td>x</td>\n",
       "      <td>o</td>\n",
       "      <td>o</td>\n",
       "      <td>x</td>\n",
       "      <td>x</td>\n",
       "    </tr>\n",
       "  </tbody>\n",
       "</table>\n",
       "<p>958 rows × 9 columns</p>\n",
       "</div>"
      ],
      "text/plain": [
       "    R1 R2 R3 R4 R5 R6 R7 R8 R9\n",
       "0    x  x  x  x  o  o  x  o  o\n",
       "1    x  x  x  x  o  o  o  x  o\n",
       "2    x  x  x  x  o  o  o  o  x\n",
       "3    x  x  x  x  o  o  o  b  b\n",
       "4    x  x  x  x  o  o  b  o  b\n",
       "..  .. .. .. .. .. .. .. .. ..\n",
       "953  o  x  x  x  o  o  o  x  x\n",
       "954  o  x  o  x  x  o  x  o  x\n",
       "955  o  x  o  x  o  x  x  o  x\n",
       "956  o  x  o  o  x  x  x  o  x\n",
       "957  o  o  x  x  x  o  o  x  x\n",
       "\n",
       "[958 rows x 9 columns]"
      ]
     },
     "execution_count": 43,
     "metadata": {},
     "output_type": "execute_result"
    }
   ],
   "source": [
    "df2=df.drop(['R_Final'],axis=1)\n",
    "df2"
   ]
  },
  {
   "cell_type": "markdown",
   "id": "afc42ba1",
   "metadata": {},
   "source": [
    "### Como se puede visualizar los resultados son Strings por lo que significa que son variable categoricos, para mostrar las variables categoricos en numeros con las que podemos sacar calculos usamos el metodo .value_counts() para cada columna y finalmente se suman todo estos valores categoricos y lo ingresamos en una variable ."
   ]
  },
  {
   "cell_type": "code",
   "execution_count": 44,
   "id": "6c3394bc",
   "metadata": {},
   "outputs": [
    {
     "name": "stdout",
     "output_type": "stream",
     "text": [
      "x    418\n",
      "o    335\n",
      "b    205\n",
      "Name: R1, dtype: int64\n",
      "x    378\n",
      "o    330\n",
      "b    250\n",
      "Name: R2, dtype: int64\n",
      "x    418\n",
      "o    335\n",
      "b    205\n",
      "Name: R3, dtype: int64\n",
      "x    378\n",
      "o    330\n",
      "b    250\n",
      "Name: R4, dtype: int64\n",
      "x    458\n",
      "o    340\n",
      "b    160\n",
      "Name: R5, dtype: int64\n",
      "x    378\n",
      "o    330\n",
      "b    250\n",
      "Name: R6, dtype: int64\n",
      "x    418\n",
      "o    335\n",
      "b    205\n",
      "Name: R7, dtype: int64\n",
      "x    378\n",
      "o    330\n",
      "b    250\n",
      "Name: R8, dtype: int64\n",
      "x    418\n",
      "o    335\n",
      "b    205\n",
      "Name: R9, dtype: int64\n",
      "x    3642\n",
      "o    3000\n",
      "b    1980\n",
      "dtype: int64\n"
     ]
    }
   ],
   "source": [
    "f=df2.R1.value_counts()+df2.R2.value_counts()+df2.R3.value_counts()+df2.R4.value_counts()+df2.R5.value_counts()+df2.R6.value_counts()+df2.R7.value_counts()+df2.R8.value_counts()+df2.R9.value_counts()\n",
    "print(df2.R1.value_counts())\n",
    "print(df2.R2.value_counts())\n",
    "print(df2.R3.value_counts())\n",
    "print(df2.R4.value_counts())\n",
    "print(df2.R5.value_counts())\n",
    "print(df2.R6.value_counts())\n",
    "print(df2.R7.value_counts())\n",
    "print(df2.R8.value_counts())\n",
    "print(df2.R9.value_counts())\n",
    "print(f)"
   ]
  },
  {
   "cell_type": "markdown",
   "id": "be2d3c8c",
   "metadata": {},
   "source": [
    "## Se calcula el promedio de los valores categoricos con el metodo mean() y se le agrega a una variable para imprimir el resultado"
   ]
  },
  {
   "cell_type": "code",
   "execution_count": 45,
   "id": "6fb53483",
   "metadata": {},
   "outputs": [
    {
     "data": {
      "text/plain": [
       "2874.0"
      ]
     },
     "execution_count": 45,
     "metadata": {},
     "output_type": "execute_result"
    }
   ],
   "source": [
    "P=f.mean()\n",
    "P"
   ]
  },
  {
   "cell_type": "markdown",
   "id": "fcb04ae0",
   "metadata": {},
   "source": [
    "## Se le da valor de la mediana a la variable median_value con la funcion np.median() perteneciente a numpy y luego se imprime"
   ]
  },
  {
   "cell_type": "code",
   "execution_count": 46,
   "id": "fa4a9227",
   "metadata": {},
   "outputs": [
    {
     "data": {
      "text/plain": [
       "3000.0"
      ]
     },
     "execution_count": 46,
     "metadata": {},
     "output_type": "execute_result"
    }
   ],
   "source": [
    "median_value = np.median(f)\n",
    "median_value"
   ]
  },
  {
   "cell_type": "markdown",
   "id": "d45ce20f",
   "metadata": {},
   "source": [
    "### Luego se saca la moda de la suma de estos valores categoricos por lo que fue 3642 equivalente a que el valor 'x' fue la mas repetida en los datos .csv"
   ]
  },
  {
   "cell_type": "code",
   "execution_count": 47,
   "id": "d00faa0f",
   "metadata": {},
   "outputs": [
    {
     "data": {
      "text/plain": [
       "3642"
      ]
     },
     "execution_count": 47,
     "metadata": {},
     "output_type": "execute_result"
    }
   ],
   "source": [
    "M=mode(f)\n",
    "M"
   ]
  },
  {
   "cell_type": "markdown",
   "id": "49baab89",
   "metadata": {},
   "source": [
    "### Luego con la funcion de numpy.percentile() se puede calcular el quialtil aplicando el 25 dentro del metodo"
   ]
  },
  {
   "cell_type": "code",
   "execution_count": 16,
   "id": "f21186ad",
   "metadata": {},
   "outputs": [
    {
     "data": {
      "text/plain": [
       "2490.0"
      ]
     },
     "execution_count": 16,
     "metadata": {},
     "output_type": "execute_result"
    }
   ],
   "source": [
    "Qua=np.percentile(f, 25) \n",
    "Qua"
   ]
  },
  {
   "cell_type": "markdown",
   "id": "54feea62",
   "metadata": {},
   "source": [
    "### de esta misma manera se puede calcular el percentil pero en este caso se aplica el 50 "
   ]
  },
  {
   "cell_type": "code",
   "execution_count": 17,
   "id": "d1da51f4",
   "metadata": {},
   "outputs": [
    {
     "data": {
      "text/plain": [
       "3000.0"
      ]
     },
     "execution_count": 17,
     "metadata": {},
     "output_type": "execute_result"
    }
   ],
   "source": [
    "Perc=np.percentile(f, 50)\n",
    "Perc"
   ]
  },
  {
   "cell_type": "markdown",
   "id": "f638f2a9",
   "metadata": {},
   "source": [
    "## Con la libreria numpy llamando al metodo .var() se puede sacar la varianza de los valores categoricos"
   ]
  },
  {
   "cell_type": "code",
   "execution_count": 18,
   "id": "b1c8b9a9",
   "metadata": {},
   "outputs": [
    {
     "data": {
      "text/plain": [
       "468312.0"
      ]
     },
     "execution_count": 18,
     "metadata": {},
     "output_type": "execute_result"
    }
   ],
   "source": [
    "var=np.var(f)\n",
    "var"
   ]
  },
  {
   "cell_type": "markdown",
   "id": "0dc95008",
   "metadata": {},
   "source": [
    "### Creamos la variable rango , creamos un dataframe con la variable f y como los valores del nuestro dataframe tienen solo 1 fila el rango es 1."
   ]
  },
  {
   "cell_type": "code",
   "execution_count": 19,
   "id": "1a8657c2",
   "metadata": {},
   "outputs": [
    {
     "data": {
      "text/plain": [
       "1"
      ]
     },
     "execution_count": 19,
     "metadata": {},
     "output_type": "execute_result"
    }
   ],
   "source": [
    "Rango = pd.DataFrame(f)\n",
    "np.linalg.matrix_rank(Rango)"
   ]
  },
  {
   "cell_type": "markdown",
   "id": "ab5f851e",
   "metadata": {},
   "source": [
    "### Posteriormente sacamos la desviacion estandar con la ayuda de la libreria numpy y el metodo .std()"
   ]
  },
  {
   "cell_type": "code",
   "execution_count": 20,
   "id": "68f720f1",
   "metadata": {},
   "outputs": [
    {
     "data": {
      "text/plain": [
       "684.3332521513184"
      ]
     },
     "execution_count": 20,
     "metadata": {},
     "output_type": "execute_result"
    }
   ],
   "source": [
    "DE=np.std(f)\n",
    "DE"
   ]
  },
  {
   "cell_type": "markdown",
   "id": "f93b4ab8",
   "metadata": {},
   "source": [
    "### Se crea un dataframe y con la libreria numpy transponemos la matriz A para imprimir el grafico de dispersion pero al tener solo 1 fila este es el resultado."
   ]
  },
  {
   "cell_type": "code",
   "execution_count": 21,
   "id": "fae700e0",
   "metadata": {},
   "outputs": [
    {
     "name": "stdout",
     "output_type": "stream",
     "text": [
      "      x     o     b\n",
      "0  3642  3000  1980\n"
     ]
    },
    {
     "data": {
      "image/png": "[encoded data removed]",
      "text/plain": [
       "<Figure size 432x288 with 1 Axes>"
      ]
     },
     "metadata": {
      "needs_background": "light"
     },
     "output_type": "display_data"
    }
   ],
   "source": [
    "df3 = pd.DataFrame(f).transpose()\n",
    "print(df3)\n",
    "disp=df3.plot(kind='scatter',x='x',y='o')"
   ]
  },
  {
   "cell_type": "markdown",
   "id": "097fe75b",
   "metadata": {},
   "source": [
    "### Luego se imprime el dataframe en un grafico de barras"
   ]
  },
  {
   "cell_type": "code",
   "execution_count": 22,
   "id": "0e1df2d0",
   "metadata": {},
   "outputs": [
    {
     "data": {
      "image/png": "[encoded data removed]",
      "text/plain": [
       "<Figure size 432x288 with 1 Axes>"
      ]
     },
     "metadata": {
      "needs_background": "light"
     },
     "output_type": "display_data"
    }
   ],
   "source": [
    "df3.plot(kind = 'bar',xlabel=\"Categorias\",ylabel=\"Cantidad de resultados\");"
   ]
  },
  {
   "cell_type": "markdown",
   "id": "ebf27801",
   "metadata": {},
   "source": [
    "### Luego se grafica el dataframe en un histograma en este caso se crea otro dataframe sin los datos transpuestos para que se pueda visualizar de que los datos pertenecen a una sola fila por el color"
   ]
  },
  {
   "cell_type": "code",
   "execution_count": 23,
   "id": "79a15a5e",
   "metadata": {},
   "outputs": [
    {
     "data": {
      "text/plain": [
       "(array([1., 0., 0., 0., 0., 0., 1., 0., 0., 1.]),\n",
       " array([1980. , 2146.2, 2312.4, 2478.6, 2644.8, 2811. , 2977.2, 3143.4,\n",
       "        3309.6, 3475.8, 3642. ]),\n",
       " <BarContainer object of 10 artists>)"
      ]
     },
     "execution_count": 23,
     "metadata": {},
     "output_type": "execute_result"
    },
    {
     "data": {
      "image/png": "[encoded data removed]",
      "text/plain": [
       "<Figure size 432x288 with 1 Axes>"
      ]
     },
     "metadata": {
      "needs_background": "light"
     },
     "output_type": "display_data"
    }
   ],
   "source": [
    "df4=pd.DataFrame(f)\n",
    "plt.hist(df4)"
   ]
  },
  {
   "cell_type": "markdown",
   "id": "8d05d0ae",
   "metadata": {},
   "source": [
    "### Para sacar el diagrama de cajas se ocupa la suma de todas las variables , de esta manera se puede visualizar de mejor manera en una sola \"caja\""
   ]
  },
  {
   "cell_type": "code",
   "execution_count": 24,
   "id": "034b58bc",
   "metadata": {},
   "outputs": [
    {
     "data": {
      "text/plain": [
       "{'whiskers': [<matplotlib.lines.Line2D at 0x1fef4866b50>,\n",
       "  <matplotlib.lines.Line2D at 0x1fef4866eb0>],\n",
       " 'caps': [<matplotlib.lines.Line2D at 0x1fef4875250>,\n",
       "  <matplotlib.lines.Line2D at 0x1fef48755b0>],\n",
       " 'boxes': [<matplotlib.lines.Line2D at 0x1fef48667f0>],\n",
       " 'medians': [<matplotlib.lines.Line2D at 0x1fef4875910>],\n",
       " 'fliers': [<matplotlib.lines.Line2D at 0x1fef4875c70>],\n",
       " 'means': []}"
      ]
     },
     "execution_count": 24,
     "metadata": {},
     "output_type": "execute_result"
    },
    {
     "data": {
      "image/png": "[encoded data removed]",
      "text/plain": [
       "<Figure size 432x288 with 1 Axes>"
      ]
     },
     "metadata": {
      "needs_background": "light"
     },
     "output_type": "display_data"
    }
   ],
   "source": [
    "plt.title(\"Diagrama da cajas\")\n",
    "plt.xlabel(\"Valores Categoricos X-O-B\")\n",
    "plt.boxplot(f)"
   ]
  },
  {
   "cell_type": "markdown",
   "id": "6cd4590c",
   "metadata": {},
   "source": [
    "### Verificamos si el archivo .csv posee algun valor en blanco o en N/A, gracias al resultado podemos ver que no presenta ningun valor en blanco."
   ]
  },
  {
   "cell_type": "code",
   "execution_count": 25,
   "id": "481ec2f7",
   "metadata": {},
   "outputs": [
    {
     "data": {
      "text/plain": [
       "False"
      ]
     },
     "execution_count": 25,
     "metadata": {},
     "output_type": "execute_result"
    }
   ],
   "source": [
    "df.isnull().values.any()"
   ]
  },
  {
   "cell_type": "markdown",
   "id": "d99edb19",
   "metadata": {},
   "source": [
    "## Finalmente usamos el grafico pastel para demostrar el valor categorico \"b\" es el unico outlaier ya que es el unico que está más lejos del promedio."
   ]
  },
  {
   "cell_type": "code",
   "execution_count": 26,
   "id": "ce5d9b0b",
   "metadata": {},
   "outputs": [
    {
     "data": {
      "image/png": "[encoded data removed]",
      "text/plain": [
       "<Figure size 432x288 with 1 Axes>"
      ]
     },
     "metadata": {},
     "output_type": "display_data"
    }
   ],
   "source": [
    "fig, ax = plt.subplots()\n",
    "nombres = [\"X\",\"O\",\"b\"]\n",
    "plt.pie(f, labels=nombres,autopct=\"%0.1f %%\")\n",
    "plt.title(\"Grafico de pie que determina que b es el outlaier\")\n",
    "plt.show()"
   ]
  },
  {
   "cell_type": "code",
   "execution_count": null,
   "id": "88a88c50",
   "metadata": {},
   "outputs": [],
   "source": []
  }
 ],
 "metadata": {
  "kernelspec": {
   "display_name": "Python 3",
   "language": "python",
   "name": "python3"
  },
  "language_info": {
   "codemirror_mode": {
    "name": "ipython",
    "version": 3
   },
   "file_extension": ".py",
   "mimetype": "text/x-python",
   "name": "python",
   "nbconvert_exporter": "python",
   "pygments_lexer": "ipython3",
   "version": "3.8.8"
  }
 },
 "nbformat": 4,
 "nbformat_minor": 5
}
